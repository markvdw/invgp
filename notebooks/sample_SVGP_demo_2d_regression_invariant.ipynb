{
 "cells": [
  {
   "cell_type": "code",
   "execution_count": 1,
   "metadata": {},
   "outputs": [],
   "source": [
    "import numpy as np\n",
    "import numpy.random as rnd\n",
    "import matplotlib.pyplot as plt\n",
    "\n",
    "import tensorflow as tf\n",
    "\n",
    "import gpflow\n",
    "from gpflow.models import SVGP\n",
    "from gpflow.utilities import read_values, multiple_assign, set_trainable\n",
    "\n",
    "import invgp\n",
    "from invgp.models.sample_SVGP import sample_SVGP\n",
    "from invgp_experiments import utils\n",
    "from invgp.inducing_variables.invariant_convolution_domain import StochasticConvolvedInducingPoints"
   ]
  },
  {
   "cell_type": "code",
   "execution_count": 2,
   "metadata": {},
   "outputs": [],
   "source": [
    "np.random.seed(0)"
   ]
  },
  {
   "cell_type": "code",
   "execution_count": 3,
   "metadata": {},
   "outputs": [],
   "source": [
    "# generate 200 datapoints\n",
    "X = np.random.uniform(-3, 3, 400)[:, None]\n",
    "X = np.reshape(X, [200, 2]) # 2-dimensional input\n",
    "Y = np.sqrt(X[:, 0]**2 + X[:, 1]**2)[..., None] + np.random.randn(len(X), 1) * 0.1\n",
    "train_dataset = tf.data.Dataset.from_tensor_slices((X, Y))\n",
    "train_dataset = train_dataset.shuffle(1024).batch(len(X))"
   ]
  },
  {
   "cell_type": "markdown",
   "metadata": {},
   "source": [
    "__Initialize models__"
   ]
  },
  {
   "cell_type": "code",
   "execution_count": 4,
   "metadata": {},
   "outputs": [],
   "source": [
    "inducing_variables_creator = lambda: StochasticConvolvedInducingPoints(X.copy())\n",
    "# inducing_variables_creator = lambda: X.copy()\n",
    "kernel_creator = lambda: invgp.kernels.StochasticInvariant(\n",
    "    basekern=gpflow.kernels.SquaredExponential(),\n",
    "    orbit=invgp.kernels.orbits.SwitchXY()\n",
    ")\n",
    "\n",
    "SVGP_model, sample_SVGP_model, matheron_sample_SVGP_model = [\n",
    "    m(\n",
    "        kernel_creator(),\n",
    "        gpflow.likelihoods.Gaussian(),\n",
    "        inducing_variable=inducing_variables_creator(),\n",
    "        num_data=len(X),\n",
    "        **kw,\n",
    "    )\n",
    "    for m, kw in [(SVGP, {}), (sample_SVGP, {\"matheron_sampler\": False}), (sample_SVGP, {\"matheron_sampler\": True})]\n",
    "]"
   ]
  },
  {
   "cell_type": "markdown",
   "metadata": {},
   "source": [
    "__Define and run the optimiziation loop for SVGP model__"
   ]
  },
  {
   "cell_type": "code",
   "execution_count": 5,
   "metadata": {},
   "outputs": [
    {
     "name": "stdout",
     "output_type": "stream",
     "text": [
      "stochastic_inv_conditional\n",
      "sub conditional\n",
      "Step: 0, Mini batch elbo: -824.9394891257768\n",
      "Step: 10, Mini batch elbo: -696.6004579641348\n",
      "Step: 20, Mini batch elbo: -608.7858618062231\n",
      "Step: 30, Mini batch elbo: -539.1431030629968\n",
      "Step: 40, Mini batch elbo: -482.2819587912027\n",
      "Step: 50, Mini batch elbo: -435.592197223041\n",
      "Step: 60, Mini batch elbo: -397.2143113161678\n",
      "Step: 70, Mini batch elbo: -365.7958296575103\n",
      "Step: 80, Mini batch elbo: -340.27586865205484\n",
      "Step: 90, Mini batch elbo: -319.60708035893697\n",
      "Step: 100, Mini batch elbo: -302.7813663619299\n",
      "Step: 110, Mini batch elbo: -289.0607986892544\n",
      "Step: 120, Mini batch elbo: -277.94238854249284\n",
      "Step: 130, Mini batch elbo: -268.97405301534695\n",
      "Step: 140, Mini batch elbo: -261.6636305215038\n",
      "Step: 150, Mini batch elbo: -255.52547739475045\n",
      "Step: 160, Mini batch elbo: -250.1521669179421\n",
      "Step: 170, Mini batch elbo: -245.24737497359126\n",
      "Step: 180, Mini batch elbo: -240.62015533071644\n",
      "Step: 190, Mini batch elbo: -236.1575569263382\n",
      "Step: 200, Mini batch elbo: -231.79273983837334\n",
      "Step: 210, Mini batch elbo: -227.48067328554782\n",
      "Step: 220, Mini batch elbo: -223.1847028751038\n",
      "Step: 230, Mini batch elbo: -218.87148625515636\n",
      "Step: 240, Mini batch elbo: -214.50990755906471\n",
      "Step: 250, Mini batch elbo: -210.07165124735684\n",
      "Step: 260, Mini batch elbo: -205.53184068747547\n",
      "Step: 270, Mini batch elbo: -200.86935750968115\n",
      "Step: 280, Mini batch elbo: -196.06669417942598\n",
      "Step: 290, Mini batch elbo: -191.10952093008277\n",
      "Step: 300, Mini batch elbo: -185.98615931689193\n",
      "Step: 310, Mini batch elbo: -180.68714603856455\n",
      "Step: 320, Mini batch elbo: -175.20485613476995\n",
      "Step: 330, Mini batch elbo: -169.53410903338414\n",
      "Step: 340, Mini batch elbo: -163.66862210218557\n",
      "Step: 350, Mini batch elbo: -157.60781389965825\n",
      "Step: 360, Mini batch elbo: -151.3499015800194\n",
      "Step: 370, Mini batch elbo: -144.89583026437725\n",
      "Step: 380, Mini batch elbo: -138.24801432376188\n",
      "Step: 390, Mini batch elbo: -131.41051225826993\n",
      "Step: 400, Mini batch elbo: -124.38996462972739\n",
      "Step: 410, Mini batch elbo: -117.19440865281676\n",
      "Step: 420, Mini batch elbo: -109.83142453560099\n",
      "Step: 430, Mini batch elbo: -102.31361995701076\n",
      "Step: 440, Mini batch elbo: -94.65396577115344\n",
      "Step: 450, Mini batch elbo: -86.86737944812356\n",
      "Step: 460, Mini batch elbo: -78.97014969389429\n",
      "Step: 470, Mini batch elbo: -70.97898454172214\n",
      "Step: 480, Mini batch elbo: -62.91386954746256\n",
      "Step: 490, Mini batch elbo: -54.79436672195903\n",
      "Step: 500, Mini batch elbo: -46.63742283859992\n",
      "Step: 510, Mini batch elbo: -38.4786686684774\n",
      "Step: 520, Mini batch elbo: -30.317621826690825\n",
      "Step: 530, Mini batch elbo: -22.192344444786862\n",
      "Step: 540, Mini batch elbo: -14.136540223945971\n",
      "Step: 550, Mini batch elbo: -6.149611627305141\n",
      "Step: 560, Mini batch elbo: 1.7180829350419735\n",
      "Step: 570, Mini batch elbo: 9.465161107356238\n",
      "Step: 580, Mini batch elbo: 17.04215596274622\n",
      "Step: 590, Mini batch elbo: 24.430489514882623\n",
      "Step: 600, Mini batch elbo: 31.610010162007605\n",
      "Step: 610, Mini batch elbo: 38.58271573576961\n",
      "Step: 620, Mini batch elbo: 45.27828764349702\n",
      "Step: 630, Mini batch elbo: 51.69311687602861\n",
      "Step: 640, Mini batch elbo: 57.8237754529309\n",
      "Step: 650, Mini batch elbo: 63.62791850268526\n",
      "Step: 660, Mini batch elbo: 69.0912078937066\n",
      "Step: 670, Mini batch elbo: 74.24238589562911\n",
      "Step: 680, Mini batch elbo: 78.89997011975997\n",
      "Step: 690, Mini batch elbo: 83.45555484635756\n",
      "Step: 700, Mini batch elbo: 87.5206019538039\n",
      "Step: 710, Mini batch elbo: 91.25075861775447\n",
      "Step: 720, Mini batch elbo: 94.61867344536256\n",
      "Step: 730, Mini batch elbo: 97.61960695418317\n",
      "Step: 740, Mini batch elbo: 100.31294833038349\n",
      "Step: 750, Mini batch elbo: 102.68029730131056\n",
      "Step: 760, Mini batch elbo: 104.69963060284053\n",
      "Step: 770, Mini batch elbo: 106.57901656312029\n",
      "Step: 780, Mini batch elbo: 108.21044059648561\n",
      "Step: 790, Mini batch elbo: 109.56584434000689\n",
      "Step: 800, Mini batch elbo: 110.56439964375885\n",
      "Step: 810, Mini batch elbo: 111.50575083884945\n",
      "Step: 820, Mini batch elbo: 112.48201968173257\n",
      "Step: 830, Mini batch elbo: 113.22157340960584\n",
      "Step: 840, Mini batch elbo: 113.67617225624969\n",
      "Step: 850, Mini batch elbo: 114.2737509855131\n",
      "Step: 860, Mini batch elbo: 114.70127760460628\n",
      "Step: 870, Mini batch elbo: 115.0847361471073\n",
      "Step: 880, Mini batch elbo: 115.33498229209899\n",
      "Step: 890, Mini batch elbo: 115.4522388739804\n",
      "Step: 900, Mini batch elbo: 115.79627284670877\n",
      "Step: 910, Mini batch elbo: 115.99927330982243\n",
      "Step: 920, Mini batch elbo: 116.17592430316205\n",
      "Step: 930, Mini batch elbo: 116.31038287558263\n",
      "Step: 940, Mini batch elbo: 116.43311030688143\n",
      "Step: 950, Mini batch elbo: 116.57198733233525\n",
      "Step: 960, Mini batch elbo: 116.67878636272341\n",
      "Step: 970, Mini batch elbo: 116.77894181540765\n",
      "Step: 980, Mini batch elbo: 116.26750537104132\n",
      "Step: 990, Mini batch elbo: 116.83896598701588\n",
      "Step: 1000, Mini batch elbo: 116.98778407787206\n",
      "Step: 1010, Mini batch elbo: 117.1179480557519\n",
      "Step: 1020, Mini batch elbo: 117.20203476528853\n",
      "Step: 1030, Mini batch elbo: 117.27902886933589\n",
      "Step: 1040, Mini batch elbo: 117.35270354267891\n",
      "Step: 1050, Mini batch elbo: 117.38622000186842\n",
      "Step: 1060, Mini batch elbo: 117.46337143750549\n",
      "Step: 1070, Mini batch elbo: 117.56394684825257\n",
      "Step: 1080, Mini batch elbo: 117.58224387644768\n",
      "Step: 1090, Mini batch elbo: 117.65572060644593\n",
      "Step: 1100, Mini batch elbo: 117.75389923867807\n",
      "Step: 1110, Mini batch elbo: 117.84404621111501\n",
      "Step: 1120, Mini batch elbo: 117.90852044398251\n",
      "Step: 1130, Mini batch elbo: 117.9390512703134\n",
      "Step: 1140, Mini batch elbo: 117.73489193609927\n",
      "Step: 1150, Mini batch elbo: 117.96930066312048\n",
      "Step: 1160, Mini batch elbo: 118.1484764707388\n",
      "Step: 1170, Mini batch elbo: 118.24281815365069\n",
      "Step: 1180, Mini batch elbo: 118.31915813613014\n",
      "Step: 1190, Mini batch elbo: 118.39399278096458\n",
      "Step: 1200, Mini batch elbo: 118.46574313952183\n",
      "Step: 1210, Mini batch elbo: 118.53903444686075\n",
      "Step: 1220, Mini batch elbo: 118.60624657286846\n",
      "Step: 1230, Mini batch elbo: 118.5861281939236\n",
      "Step: 1240, Mini batch elbo: 118.61540071436723\n",
      "Step: 1250, Mini batch elbo: 118.76663709682056\n",
      "Step: 1260, Mini batch elbo: 118.87294748597385\n",
      "Step: 1270, Mini batch elbo: 118.96429397725005\n",
      "Step: 1280, Mini batch elbo: 119.0284065091383\n",
      "Step: 1290, Mini batch elbo: 118.91445976976237\n",
      "Step: 1300, Mini batch elbo: 119.1465135700678\n",
      "Step: 1310, Mini batch elbo: 119.276123483709\n",
      "Step: 1320, Mini batch elbo: 119.37595415890053\n",
      "Step: 1330, Mini batch elbo: 119.47022052732532\n",
      "Step: 1340, Mini batch elbo: 119.52506578683303\n",
      "Step: 1350, Mini batch elbo: 118.73113757187191\n",
      "Step: 1360, Mini batch elbo: 119.36642718490023\n",
      "Step: 1370, Mini batch elbo: 119.73415274876119\n",
      "Step: 1380, Mini batch elbo: 119.86737623615424\n",
      "Step: 1390, Mini batch elbo: 119.97467540800251\n",
      "Step: 1400, Mini batch elbo: 120.07178636645287\n",
      "Step: 1410, Mini batch elbo: 120.15992766450421\n",
      "Step: 1420, Mini batch elbo: 120.24926293114783\n",
      "Step: 1430, Mini batch elbo: 120.3175341182714\n",
      "Step: 1440, Mini batch elbo: 120.32331887917344\n",
      "Step: 1450, Mini batch elbo: 120.42099707565586\n",
      "Step: 1460, Mini batch elbo: 120.5023176491976\n",
      "Step: 1470, Mini batch elbo: 120.65878574362917\n",
      "Step: 1480, Mini batch elbo: 120.75697664824716\n",
      "Step: 1490, Mini batch elbo: 120.67816938114579\n",
      "Step: 1500, Mini batch elbo: 120.84056145684532\n",
      "Step: 1510, Mini batch elbo: 120.81431606748284\n",
      "Step: 1520, Mini batch elbo: 121.04065588517834\n",
      "Step: 1530, Mini batch elbo: 121.12999896890904\n",
      "Step: 1540, Mini batch elbo: 121.22374124267631\n",
      "Step: 1550, Mini batch elbo: 121.22855906929777\n",
      "Step: 1560, Mini batch elbo: 121.05160057394065\n",
      "Step: 1570, Mini batch elbo: 121.35244393850692\n",
      "Step: 1580, Mini batch elbo: 121.48658560734677\n",
      "Step: 1590, Mini batch elbo: 121.45338108177413\n",
      "Step: 1600, Mini batch elbo: 121.57208721999835\n",
      "Step: 1610, Mini batch elbo: 121.17131253549627\n",
      "Step: 1620, Mini batch elbo: 121.39059383858225\n",
      "Step: 1630, Mini batch elbo: 121.74617441313943\n",
      "Step: 1640, Mini batch elbo: 121.807929760575\n",
      "Step: 1650, Mini batch elbo: 121.88196582888453\n",
      "Step: 1660, Mini batch elbo: 121.93672709053868\n",
      "Step: 1670, Mini batch elbo: 121.94223025047131\n",
      "Step: 1680, Mini batch elbo: 122.00369427440364\n",
      "Step: 1690, Mini batch elbo: 121.966426879679\n",
      "Step: 1700, Mini batch elbo: 121.74507577840072\n",
      "Step: 1710, Mini batch elbo: 122.0944023179162\n",
      "Step: 1720, Mini batch elbo: 122.18957381478454\n"
     ]
    },
    {
     "name": "stdout",
     "output_type": "stream",
     "text": [
      "Step: 1730, Mini batch elbo: 122.21242950189864\n",
      "Step: 1740, Mini batch elbo: 122.15725356015972\n",
      "Step: 1750, Mini batch elbo: 122.28501638289842\n",
      "Step: 1760, Mini batch elbo: 122.2493985620467\n",
      "Step: 1770, Mini batch elbo: 122.19247057028397\n",
      "Step: 1780, Mini batch elbo: 122.36894043550039\n",
      "Step: 1790, Mini batch elbo: 122.465903921256\n",
      "Step: 1800, Mini batch elbo: 122.49594929154856\n",
      "Step: 1810, Mini batch elbo: 122.55203946533857\n",
      "Step: 1820, Mini batch elbo: 122.51490422358529\n",
      "Step: 1830, Mini batch elbo: 121.62571874038797\n",
      "Step: 1840, Mini batch elbo: 122.46933081435077\n",
      "Step: 1850, Mini batch elbo: 122.6390580941433\n",
      "Step: 1860, Mini batch elbo: 122.70931958821153\n",
      "Step: 1870, Mini batch elbo: 122.74625957907111\n",
      "Step: 1880, Mini batch elbo: 122.75384972368403\n",
      "Step: 1890, Mini batch elbo: 122.79291535843893\n",
      "Step: 1900, Mini batch elbo: 122.80947328094378\n",
      "Step: 1910, Mini batch elbo: 122.85397388242151\n",
      "Step: 1920, Mini batch elbo: 122.67752240057456\n",
      "Step: 1930, Mini batch elbo: 122.72289905918082\n",
      "Step: 1940, Mini batch elbo: 122.87898310448378\n",
      "Step: 1950, Mini batch elbo: 122.96545828645773\n",
      "Step: 1960, Mini batch elbo: 122.9976882307895\n",
      "Step: 1970, Mini batch elbo: 123.01279393576515\n",
      "Step: 1980, Mini batch elbo: 122.75920399033961\n",
      "Step: 1990, Mini batch elbo: 122.54253627327721\n"
     ]
    }
   ],
   "source": [
    "train_iter = iter(train_dataset.repeat())\n",
    "training_loss = SVGP_model.training_loss_closure(train_iter, compile=True)\n",
    "optimizer = tf.keras.optimizers.Adam(0.01)\n",
    "set_trainable(SVGP_model.inducing_variable, False)\n",
    "@tf.function\n",
    "def optimization_step():\n",
    "    optimizer.minimize(training_loss, SVGP_model.trainable_variables)\n",
    "elbo_hist = []\n",
    "for step in range(2000):\n",
    "    optimization_step()\n",
    "    if step % 10 == 0:\n",
    "        minibatch_elbo = -training_loss().numpy()\n",
    "        print('Step: %s, Mini batch elbo: %s' % (step, minibatch_elbo))\n",
    "        elbo_hist.append(minibatch_elbo)"
   ]
  },
  {
   "cell_type": "code",
   "execution_count": 6,
   "metadata": {},
   "outputs": [
    {
     "data": {
      "text/plain": [
       "[<matplotlib.lines.Line2D at 0x141431370>]"
      ]
     },
     "execution_count": 6,
     "metadata": {},
     "output_type": "execute_result"
    },
    {
     "data": {
      "image/png": "[encoded data removed]",
      "text/plain": [
       "<Figure size 432x288 with 1 Axes>"
      ]
     },
     "metadata": {
      "needs_background": "light"
     },
     "output_type": "display_data"
    }
   ],
   "source": [
    "plt.plot(elbo_hist)"
   ]
  },
  {
   "cell_type": "markdown",
   "metadata": {},
   "source": [
    "__Initialize sample_SVGP models with fitted parameters from SVGP__"
   ]
  },
  {
   "cell_type": "code",
   "execution_count": 7,
   "metadata": {},
   "outputs": [],
   "source": [
    "trained_params = read_values(SVGP_model)\n",
    "multiple_assign(sample_SVGP_model, trained_params)\n",
    "multiple_assign(matheron_sample_SVGP_model, trained_params)"
   ]
  },
  {
   "cell_type": "code",
   "execution_count": 8,
   "metadata": {},
   "outputs": [
    {
     "name": "stdout",
     "output_type": "stream",
     "text": [
      "stochastic_inv_conditional\n",
      "sub conditional\n",
      "Running invariant kernel sample_conditional.\n"
     ]
    },
    {
     "data": {
      "image/png": "[encoded data removed]",
      "text/plain": [
       "<Figure size 864x1080 with 3 Axes>"
      ]
     },
     "metadata": {
      "needs_background": "light"
     },
     "output_type": "display_data"
    }
   ],
   "source": [
    "fig, ax = plt.subplots(1, 3, figsize=(12, 15))\n",
    "x1list = np.linspace(-3.0, 3.0, 100)\n",
    "x2list = np.linspace(-3.0, 3.0, 100)\n",
    "X1, X2 = np.meshgrid(x1list, x2list)\n",
    "ax[0].set_title('True function')\n",
    "ax[0].set_aspect('equal', 'box')\n",
    "\n",
    "# plot the true data generating process\n",
    "true_Z = np.sqrt(X1**2 + X2**2)\n",
    "cp = ax[0].contourf(X1, X2, true_Z)\n",
    "\n",
    "# plot the SVGP mean prediction\n",
    "positions = np.vstack([X1.ravel(), X2.ravel()])\n",
    "mean, var = SVGP_model.predict_f(positions.T)\n",
    "cp = ax[1].contourf(X1, X2, np.reshape(mean.numpy().T, X1.shape))\n",
    "ax[1].set_title('Posterior mean')\n",
    "ax[1].set_aspect('equal', 'box')\n",
    "\n",
    "# plot a matheron sample_SVGP sample\n",
    "x1list_coarse = np.linspace(-3.0, 3.0, 10)\n",
    "x2list_coarse = np.linspace(-3.0, 3.0, 10)\n",
    "X1_coarse, X2_coarse = np.meshgrid(x1list_coarse, x2list_coarse)\n",
    "positions_coarse = np.vstack([X1_coarse.ravel(), X2_coarse.ravel()])\n",
    "samples = matheron_sample_SVGP_model.predict_f_samples(positions_coarse.T, num_samples=1)\n",
    "cp = ax[2].contourf(X1_coarse, X2_coarse, np.reshape(samples.numpy().T, X1_coarse.shape))\n",
    "ax[2].set_title('Single sample from Matheron model')\n",
    "ax[2].set_aspect('equal', 'box')\n",
    "\n",
    "plt.show()"
   ]
  },
  {
   "cell_type": "code",
   "execution_count": 9,
   "metadata": {
    "scrolled": true
   },
   "outputs": [
    {
     "name": "stdout",
     "output_type": "stream",
     "text": [
      "stochastic_inv_conditional\n",
      "sub conditional\n",
      "Running invariant kernel sample_conditional.\n",
      "Running invariant kernel sample_conditional.\n",
      "Running invariant kernel sample_conditional.\n",
      "Running invariant kernel sample_conditional.\n",
      "Running invariant kernel sample_conditional.\n",
      "Running invariant kernel sample_conditional.\n",
      "Running invariant kernel sample_conditional.\n",
      "Running invariant kernel sample_conditional.\n",
      "Running invariant kernel sample_conditional.\n",
      "Running invariant kernel sample_conditional.\n"
     ]
    }
   ],
   "source": [
    "#compare elbos\n",
    "SVGP_model_elbo = SVGP_model.elbo((X, Y))\n",
    "sample_SVGP_model_elbos = [sample_SVGP_model.elbo((X, Y)).numpy() for _ in range(10)]\n",
    "expected_sample_elbo = np.mean(sample_SVGP_model_elbos)\n",
    "var_sample_elbo = np.var(sample_SVGP_model_elbos)\n",
    "np.testing.assert_allclose(SVGP_model_elbo, expected_sample_elbo, rtol=0.05, atol=0.0) \n",
    "\n",
    "matheron_sample_SVGP_model_elbos = [matheron_sample_SVGP_model.elbo((X, Y)).numpy() for _ in range(10)]\n",
    "expected_matheron_sample_elbo = np.mean(matheron_sample_SVGP_model_elbos)\n",
    "var_matheron_sample_elbo = np.var(matheron_sample_SVGP_model_elbos)"
   ]
  },
  {
   "cell_type": "code",
   "execution_count": 10,
   "metadata": {},
   "outputs": [
    {
     "name": "stdout",
     "output_type": "stream",
     "text": [
      "SVGP model elbo is: 122.99228799518755\n",
      "Expectation and variance of the sample ELBO estimator: 123.51001577926195 2.6776911940605026\n",
      "Expectation and variance of the Matheron sample ELBO estimator: 122.32897677417748 2.6092922920179538\n"
     ]
    }
   ],
   "source": [
    "print('SVGP model elbo is:', SVGP_model_elbo.numpy())\n",
    "print('Expectation and variance of the sample ELBO estimator:', expected_sample_elbo, var_sample_elbo)\n",
    "print('Expectation and variance of the Matheron sample ELBO estimator:', expected_matheron_sample_elbo, var_matheron_sample_elbo)"
   ]
  },
  {
   "cell_type": "code",
   "execution_count": null,
   "metadata": {},
   "outputs": [],
   "source": []
  }
 ],
 "metadata": {
  "kernelspec": {
   "display_name": "Python 3",
   "language": "python",
   "name": "python3"
  },
  "language_info": {
   "codemirror_mode": {
    "name": "ipython",
    "version": 3
   },
   "file_extension": ".py",
   "mimetype": "text/x-python",
   "name": "python",
   "nbconvert_exporter": "python",
   "pygments_lexer": "ipython3",
   "version": "3.7.6"
  }
 },
 "nbformat": 4,
 "nbformat_minor": 4
}
