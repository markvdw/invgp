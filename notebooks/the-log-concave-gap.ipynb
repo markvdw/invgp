{
 "cells": [
  {
   "cell_type": "code",
   "execution_count": 1,
   "metadata": {},
   "outputs": [],
   "source": [
    "import numpy as np\n",
    "import numpy.random as rnd\n",
    "import matplotlib.pyplot as plt\n",
    "\n",
    "import tensorflow as tf\n",
    "\n",
    "import gpflow\n",
    "from gpflow.models import SVGP, SGPR\n",
    "from gpflow.utilities import read_values, multiple_assign, set_trainable\n",
    "from gpflow.inducing_variables import InducingPoints\n",
    "\n",
    "import invgp\n",
    "from invgp.models.SampleSVGP import SampleSVGP\n",
    "import invgp.kernels.orbits as orbits\n",
    "from invgp.inducing_variables.invariant_convolution_domain import StochasticConvolvedInducingPoints"
   ]
  },
  {
   "cell_type": "code",
   "execution_count": 2,
   "metadata": {},
   "outputs": [
    {
     "data": {
      "text/plain": [
       "[<matplotlib.lines.Line2D at 0x1a67a5a36a0>]"
      ]
     },
     "execution_count": 2,
     "metadata": {},
     "output_type": "execute_result"
    },
    {
     "data": {
      "image/png": "[encoded data removed]",
      "text/plain": [
       "<Figure size 432x288 with 1 Axes>"
      ]
     },
     "metadata": {
      "needs_background": "light"
     },
     "output_type": "display_data"
    }
   ],
   "source": [
    "pX = np.linspace(-10.0, 10.0, 300)[:, None]\n",
    "X = np.random.uniform(-5, 5, 300)[:, None]\n",
    "Y = np.sin(3 * X) + 0.1  +  np.cos(0.5 * X) + np.random.randn(*X.shape) * 0.1\n",
    "Z = np.linspace(-5, 5, 50)[:, None]\n",
    "\n",
    "train_dataset = tf.data.Dataset.from_tensor_slices((X, Y))\n",
    "train_dataset = train_dataset.shuffle(1024).batch(len(X))\n",
    "\n",
    "plt.plot(X,Y ,\"x\")"
   ]
  },
  {
   "cell_type": "code",
   "execution_count": 3,
   "metadata": {},
   "outputs": [],
   "source": [
    "from gpflow.covariances.dispatch import Kuf, Kuu\n",
    "from gpflow.kernels import SquaredExponential\n",
    "from gpflow.utilities.ops import square_distance\n",
    "\n",
    "class GaussianNoiseInvariant(SquaredExponential):\n",
    "    def __init__(self, base_variance=1.0, base_lengthscales=1.0, orbit_variance=1.0):\n",
    "        self.base_variance = gpflow.Parameter(base_variance, transform=gpflow.utilities.bijectors.positive())\n",
    "        self.base_lengthscales = gpflow.Parameter(base_lengthscales, transform=gpflow.utilities.bijectors.positive())\n",
    "        self.orbit_variance = orbit_variance\n",
    "        super().__init__()\n",
    "\n",
    "    @property\n",
    "    def lengthscales(self):\n",
    "        return (self.base_lengthscales ** 2.0 + 2 * self.orbit_variance) ** 0.5\n",
    "\n",
    "    @lengthscales.setter\n",
    "    def lengthscales(self, x):\n",
    "        pass\n",
    "\n",
    "    @property\n",
    "    def variance(self):\n",
    "        return (self.base_lengthscales ** 2.0 / self.lengthscales ** 2.0) ** 0.5 * self.base_variance\n",
    "\n",
    "    @variance.setter\n",
    "    def variance(self, x):\n",
    "        pass\n",
    "\n",
    "\n",
    "class GaussianNoiseInvariantInducing(gpflow.inducing_variables.InducingPoints):\n",
    "    pass\n",
    "\n",
    "\n",
    "@Kuu.register(GaussianNoiseInvariantInducing, GaussianNoiseInvariant)\n",
    "def Kuu_temp(inducing_variable, kernel, *, jitter=0.0):\n",
    "    X_scaled = inducing_variable.Z / kernel.base_lengthscales\n",
    "    r2 = square_distance(X_scaled, None)\n",
    "    return kernel.base_variance * tf.exp(-0.5 * r2) + jitter * tf.eye(len(inducing_variable), dtype=r2.dtype)\n",
    "\n",
    "\n",
    "@Kuf.register(GaussianNoiseInvariantInducing, GaussianNoiseInvariant, object)\n",
    "def Kuf_temp(inducing_variable, kernel, Xnew):\n",
    "    ls = (kernel.base_lengthscales ** 2.0 + kernel.orbit_variance) ** 0.5\n",
    "    X_scaled = Xnew / ls\n",
    "    Z_scaled = inducing_variable.Z / ls\n",
    "    r2 = square_distance(Z_scaled, X_scaled)\n",
    "    return kernel.base_variance * (kernel.base_lengthscales ** 2.0 / ls ** 2.0) ** 0.5 * tf.exp(-0.5 * r2)"
   ]
  },
  {
   "cell_type": "code",
   "execution_count": 4,
   "metadata": {},
   "outputs": [],
   "source": [
    "orbit_variance = 0.1\n",
    "\n",
    "det_k = GaussianNoiseInvariant(orbit_variance=orbit_variance)"
   ]
  },
  {
   "cell_type": "code",
   "execution_count": 22,
   "metadata": {},
   "outputs": [
    {
     "name": "stdout",
     "output_type": "stream",
     "text": [
      "Step: 0, Mini batch elbo: -691.5427316972238\n",
      "Step: 50, Mini batch elbo: -339.969303148453\n",
      "Step: 100, Mini batch elbo: -265.67758471849737\n",
      "Step: 150, Mini batch elbo: -194.2094959058706\n",
      "Step: 200, Mini batch elbo: -120.10800282871313\n",
      "Step: 250, Mini batch elbo: -45.17570078945871\n",
      "Step: 300, Mini batch elbo: 26.007626974760427\n",
      "Step: 350, Mini batch elbo: 89.21355938229112\n",
      "Step: 400, Mini batch elbo: 137.9348784714981\n",
      "Step: 450, Mini batch elbo: 173.15809680916905\n",
      "Step: 500, Mini batch elbo: 190.610290293226\n",
      "Step: 550, Mini batch elbo: 199.64120090148234\n",
      "Step: 600, Mini batch elbo: 202.8350131545892\n",
      "Step: 650, Mini batch elbo: 203.82408981293892\n",
      "Step: 700, Mini batch elbo: 204.57527882885498\n",
      "Step: 750, Mini batch elbo: 203.43253682225773\n",
      "Step: 800, Mini batch elbo: 204.32828621726156\n",
      "Step: 850, Mini batch elbo: 204.542821698219\n",
      "Step: 900, Mini batch elbo: 204.87808180331405\n",
      "Step: 950, Mini batch elbo: 204.2848812257019\n",
      "Step: 1000, Mini batch elbo: 204.12489421075665\n",
      "Step: 1050, Mini batch elbo: 204.06466089697264\n",
      "Step: 1100, Mini batch elbo: 203.4325240020073\n",
      "Step: 1150, Mini batch elbo: 205.03379169993377\n",
      "Step: 1200, Mini batch elbo: 204.9417944169195\n",
      "Step: 1250, Mini batch elbo: 204.95403645080341\n",
      "Step: 1300, Mini batch elbo: 204.97801712873581\n",
      "Step: 1350, Mini batch elbo: 205.0148355935333\n",
      "Step: 1400, Mini batch elbo: 204.91232148535715\n",
      "Step: 1450, Mini batch elbo: 203.96271365690163\n",
      "Step: 1500, Mini batch elbo: 204.43551568635306\n",
      "Step: 1550, Mini batch elbo: 204.9844952205013\n",
      "Step: 1600, Mini batch elbo: 204.63249237707095\n",
      "Step: 1650, Mini batch elbo: 205.16666972844087\n",
      "Step: 1700, Mini batch elbo: 205.07186720580816\n",
      "Step: 1750, Mini batch elbo: 203.7644695067841\n",
      "Step: 1800, Mini batch elbo: 204.96857957380465\n",
      "Step: 1850, Mini batch elbo: 204.67951950209005\n",
      "Step: 1900, Mini batch elbo: 204.4843976102142\n",
      "Step: 1950, Mini batch elbo: 205.22476912999568\n"
     ]
    }
   ],
   "source": [
    "SVGPmodel = SVGP(det_k, likelihood = gpflow.likelihoods.Gaussian(), inducing_variable=GaussianNoiseInvariantInducing(Z.copy()))\n",
    "\n",
    "train_iter = iter(train_dataset.repeat())\n",
    "training_loss = SVGPmodel.training_loss_closure(train_iter, compile=True)\n",
    "optimizer = tf.keras.optimizers.Adam(0.01)\n",
    "@tf.function\n",
    "def optimization_step():\n",
    "    optimizer.minimize(training_loss, SVGPmodel.trainable_variables)\n",
    "elbo_hist = []\n",
    "for step in range(2000):\n",
    "    optimization_step()\n",
    "    if step % 50 == 0:\n",
    "        minibatch_elbo = -training_loss().numpy()\n",
    "        print('Step: %s, Mini batch elbo: %s' % (step, minibatch_elbo))\n",
    "        elbo_hist.append(minibatch_elbo)\n",
    "\n",
    "SVGPelbo = SVGPmodel.elbo((X,Y))"
   ]
  },
  {
   "cell_type": "code",
   "execution_count": 20,
   "metadata": {},
   "outputs": [],
   "source": [
    "orbit_samples = [10, 20, 30, 40, 50, 100, 150, 200, 300, 400, 500, 1000]\n",
    "g_samples = 10\n",
    "elbos = []\n",
    "\n",
    "for os in orbit_samples:\n",
    "    stoch_k = invgp.kernels.StochasticInvariant(\n",
    "        basekern=gpflow.kernels.SquaredExponential(variance = det_k.base_variance, lengthscales = det_k.base_lengthscales),\n",
    "        orbit=orbits.GaussianNoiseOrbit(variance=orbit_variance,\n",
    "                                  minibatch_size = os))\n",
    "\n",
    "    sample_model = SampleSVGP(stoch_k,\n",
    "                              inducing_variable = StochasticConvolvedInducingPoints(SVGPmodel.inducing_variable.Z), \n",
    "                              num_data = len(X),\n",
    "                              likelihood = gpflow.likelihoods.Gaussian(variance = SVGPmodel.likelihood.variance),\n",
    "                              q_mu = SVGPmodel.q_mu.numpy(),\n",
    "                              q_sqrt = SVGPmodel.q_sqrt.numpy(),\n",
    "                              matheron_sampler = True, num_samples = g_samples)\n",
    "    elbo = sample_model.elbo((X,Y))\n",
    "    elbos.append(elbo.numpy())"
   ]
  },
  {
   "cell_type": "code",
   "execution_count": 25,
   "metadata": {},
   "outputs": [
    {
     "data": {
      "text/plain": [
       "[<matplotlib.lines.Line2D at 0x1a60071beb8>]"
      ]
     },
     "execution_count": 25,
     "metadata": {},
     "output_type": "execute_result"
    },
    {
     "data": {
      "image/png": "[encoded data removed]",
      "text/plain": [
       "<Figure size 432x288 with 1 Axes>"
      ]
     },
     "metadata": {
      "needs_background": "light"
     },
     "output_type": "display_data"
    }
   ],
   "source": [
    "plt.plot(orbit_samples, elbos, \"-\")\n",
    "plt.plot(orbit_samples, SVGPelbo.numpy() * np.ones(len(orbit_samples)))"
   ]
  },
  {
   "cell_type": "markdown",
   "metadata": {},
   "source": [
    "I should somehow visualise the variation of the ELBO in this plot. Should also investigate the impact of g_samples."
   ]
  },
  {
   "cell_type": "markdown",
   "metadata": {},
   "source": [
    "## Non-Gaussian likelihood\n",
    "\n",
    "I tried for the softmax, but there is some bug that I could not immediately solve. So I ran for the Bernoulli."
   ]
  },
  {
   "cell_type": "code",
   "execution_count": 53,
   "metadata": {},
   "outputs": [
    {
     "data": {
      "text/plain": [
       "[<matplotlib.lines.Line2D at 0x1a600cc1208>]"
      ]
     },
     "execution_count": 53,
     "metadata": {},
     "output_type": "execute_result"
    },
    {
     "data": {
      "image/png": "[encoded data removed]",
      "text/plain": [
       "<Figure size 432x288 with 1 Axes>"
      ]
     },
     "metadata": {
      "needs_background": "light"
     },
     "output_type": "display_data"
    }
   ],
   "source": [
    "pX = np.linspace(-10.0, 10.0, 300)[:, None]\n",
    "X = np.random.uniform(-5, 5, 300)[:, None]\n",
    "Y = np.sin(3 * X) + 0.1  +  np.cos(0.5 * X) + np.random.randn(*X.shape) * 0.1\n",
    "Y = (Y > 0).astype(int)\n",
    "#Y = np.sign(Y).astype(int)\n",
    "Z = np.linspace(-5, 5, 50)[:, None]\n",
    "\n",
    "train_dataset = tf.data.Dataset.from_tensor_slices((X, Y))\n",
    "train_dataset = train_dataset.shuffle(1024).batch(len(X))\n",
    "\n",
    "plt.plot(X,Y ,\"x\")"
   ]
  },
  {
   "cell_type": "code",
   "execution_count": 37,
   "metadata": {},
   "outputs": [],
   "source": [
    "orbit_variance = 0.1\n",
    "\n",
    "det_k = GaussianNoiseInvariant(orbit_variance=orbit_variance)"
   ]
  },
  {
   "cell_type": "code",
   "execution_count": 82,
   "metadata": {},
   "outputs": [
    {
     "name": "stdout",
     "output_type": "stream",
     "text": [
      "Step: 0, Mini batch elbo: -551.8444635613425\n",
      "Step: 50, Mini batch elbo: -95.00619621308789\n",
      "Step: 100, Mini batch elbo: -75.48077724419781\n",
      "Step: 150, Mini batch elbo: -71.44200488614527\n",
      "Step: 200, Mini batch elbo: -79.3262496985071\n",
      "Step: 250, Mini batch elbo: -74.48598625938409\n",
      "Step: 300, Mini batch elbo: -71.07669508114928\n",
      "Step: 350, Mini batch elbo: -69.79652243143104\n",
      "Step: 400, Mini batch elbo: -69.13287227387768\n",
      "Step: 450, Mini batch elbo: -68.67366493780446\n",
      "Step: 500, Mini batch elbo: -68.3374230723133\n",
      "Step: 550, Mini batch elbo: -68.1015504936784\n",
      "Step: 600, Mini batch elbo: -67.89659709192318\n",
      "Step: 650, Mini batch elbo: -67.73573330004697\n",
      "Step: 700, Mini batch elbo: -67.600917820126\n",
      "Step: 750, Mini batch elbo: -67.4832681117552\n",
      "Step: 800, Mini batch elbo: -67.37873555299063\n",
      "Step: 850, Mini batch elbo: -67.28380357658304\n",
      "Step: 900, Mini batch elbo: -67.19735837573563\n",
      "Step: 950, Mini batch elbo: -67.11372002298383\n",
      "Step: 1000, Mini batch elbo: -67.03639043979234\n",
      "Step: 1050, Mini batch elbo: -66.96142708691107\n",
      "Step: 1100, Mini batch elbo: -66.889613623482\n",
      "Step: 1150, Mini batch elbo: -66.82313573702963\n",
      "Step: 1200, Mini batch elbo: -66.75261189122409\n",
      "Step: 1250, Mini batch elbo: -66.6880947553491\n",
      "Step: 1300, Mini batch elbo: -66.62209139534701\n",
      "Step: 1350, Mini batch elbo: -66.55907945040113\n",
      "Step: 1400, Mini batch elbo: -66.49666156229203\n",
      "Step: 1450, Mini batch elbo: -66.43549783221684\n",
      "Step: 1500, Mini batch elbo: -66.3754870398824\n",
      "Step: 1550, Mini batch elbo: -66.31666227828893\n",
      "Step: 1600, Mini batch elbo: -66.25636575515819\n",
      "Step: 1650, Mini batch elbo: -66.19963274598764\n",
      "Step: 1700, Mini batch elbo: -66.14078330196573\n",
      "Step: 1750, Mini batch elbo: -66.08523713815373\n",
      "Step: 1800, Mini batch elbo: -66.03117165072956\n",
      "Step: 1850, Mini batch elbo: -65.97518039936617\n",
      "Step: 1900, Mini batch elbo: -65.92339250856504\n",
      "Step: 1950, Mini batch elbo: -65.86895601424544\n"
     ]
    }
   ],
   "source": [
    "SVGPmodel = SVGP(det_k, likelihood = gpflow.likelihoods.Bernoulli(), \n",
    "                 num_data = len(X),\n",
    "                 inducing_variable=GaussianNoiseInvariantInducing(Z.copy()))\n",
    "\n",
    "train_iter = iter(train_dataset.repeat())\n",
    "training_loss = SVGPmodel.training_loss_closure(train_iter, compile=False) # Compile not working for softmax-likelihood\n",
    "optimizer = tf.keras.optimizers.Adam(0.01)\n",
    "#@tf.function\n",
    "def optimization_step():\n",
    "    optimizer.minimize(training_loss, SVGPmodel.trainable_variables)\n",
    "elbo_hist = []\n",
    "for step in range(2000):\n",
    "    optimization_step()\n",
    "    if step % 50 == 0:\n",
    "        minibatch_elbo = -training_loss().numpy()\n",
    "        print('Step: %s, Mini batch elbo: %s' % (step, minibatch_elbo))\n",
    "        elbo_hist.append(minibatch_elbo)\n",
    "\n",
    "SVGPelbo = SVGPmodel.elbo((X,Y))"
   ]
  },
  {
   "cell_type": "code",
   "execution_count": 71,
   "metadata": {},
   "outputs": [
    {
     "data": {
      "text/plain": [
       "<tf.Tensor: shape=(), dtype=float64, numpy=-117.14858843169101>"
      ]
     },
     "execution_count": 71,
     "metadata": {},
     "output_type": "execute_result"
    }
   ],
   "source": [
    "SVGPmodel.elbo((X,Y))"
   ]
  },
  {
   "cell_type": "code",
   "execution_count": 83,
   "metadata": {},
   "outputs": [],
   "source": [
    "orbit_samples = [10, 20, 30, 40, 50, 100, 150, 200, 300, 400, 500, 1000]\n",
    "g_samples = 10\n",
    "elbos = []\n",
    "\n",
    "for os in orbit_samples:\n",
    "    stoch_k = invgp.kernels.StochasticInvariant(\n",
    "        basekern=gpflow.kernels.SquaredExponential(variance = det_k.base_variance, lengthscales = det_k.base_lengthscales),\n",
    "        orbit=orbits.GaussianNoiseOrbit(variance=orbit_variance,\n",
    "                                  minibatch_size = os))\n",
    "\n",
    "    sample_model = SampleSVGP(stoch_k,\n",
    "                              inducing_variable = StochasticConvolvedInducingPoints(SVGPmodel.inducing_variable.Z), \n",
    "                              num_data = len(X),\n",
    "                              likelihood = gpflow.likelihoods.Bernoulli(),\n",
    "                              q_mu = SVGPmodel.q_mu.numpy(),\n",
    "                              q_sqrt = SVGPmodel.q_sqrt.numpy(),\n",
    "                              matheron_sampler = True, num_samples = g_samples)\n",
    "    elbo = sample_model.elbo((X,Y))\n",
    "    elbos.append(elbo.numpy())"
   ]
  },
  {
   "cell_type": "code",
   "execution_count": 85,
   "metadata": {},
   "outputs": [
    {
     "data": {
      "text/plain": [
       "[<matplotlib.lines.Line2D at 0x1a600b88ac8>]"
      ]
     },
     "execution_count": 85,
     "metadata": {},
     "output_type": "execute_result"
    },
    {
     "data": {
      "image/png": "[encoded data removed]",
      "text/plain": [
       "<Figure size 432x288 with 1 Axes>"
      ]
     },
     "metadata": {
      "needs_background": "light"
     },
     "output_type": "display_data"
    }
   ],
   "source": [
    "plt.plot(orbit_samples, elbos, \"-\")\n",
    "plt.plot(orbit_samples, SVGPelbo.numpy() * np.ones(len(orbit_samples)))"
   ]
  }
 ],
 "metadata": {
  "kernelspec": {
   "display_name": "Python 3",
   "language": "python",
   "name": "python3"
  },
  "language_info": {
   "codemirror_mode": {
    "name": "ipython",
    "version": 3
   },
   "file_extension": ".py",
   "mimetype": "text/x-python",
   "name": "python",
   "nbconvert_exporter": "python",
   "pygments_lexer": "ipython3",
   "version": "3.6.5"
  }
 },
 "nbformat": 4,
 "nbformat_minor": 4
}
