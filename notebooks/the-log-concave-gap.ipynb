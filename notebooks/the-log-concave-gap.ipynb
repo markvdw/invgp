{
 "cells": [
  {
   "cell_type": "code",
   "execution_count": 1,
   "metadata": {},
   "outputs": [],
   "source": [
    "import numpy as np\n",
    "import numpy.random as rnd\n",
    "import matplotlib.pyplot as plt\n",
    "\n",
    "import tensorflow as tf\n",
    "\n",
    "import gpflow\n",
    "from gpflow.models import SVGP, SGPR\n",
    "from gpflow.utilities import read_values, multiple_assign, set_trainable\n",
    "from gpflow.inducing_variables import InducingPoints\n",
    "\n",
    "import invgp\n",
    "from invgp.models.SampleSVGP import SampleSVGP\n",
    "import invgp.kernels.orbits as orbits\n",
    "from invgp.inducing_variables.invariant_convolution_domain import StochasticConvolvedInducingPoints"
   ]
  },
  {
   "cell_type": "code",
   "execution_count": 2,
   "metadata": {},
   "outputs": [
    {
     "data": {
      "text/plain": [
       "[<matplotlib.lines.Line2D at 0x240c3bb56d8>]"
      ]
     },
     "execution_count": 2,
     "metadata": {},
     "output_type": "execute_result"
    },
    {
     "data": {
      "image/png": "[encoded data removed]",
      "text/plain": [
       "<Figure size 432x288 with 1 Axes>"
      ]
     },
     "metadata": {
      "needs_background": "light"
     },
     "output_type": "display_data"
    }
   ],
   "source": [
    "pX = np.linspace(-10.0, 10.0, 300)[:, None]\n",
    "X = np.random.uniform(-5, 5, 300)[:, None]\n",
    "Y = np.sin(3 * X) + 0.1  +  np.cos(0.5 * X) + np.random.randn(*X.shape) * 0.1\n",
    "Z = np.linspace(-5, 5, 50)[:, None]\n",
    "\n",
    "train_dataset = tf.data.Dataset.from_tensor_slices((X, Y))\n",
    "train_dataset = train_dataset.shuffle(1024).batch(len(X))\n",
    "\n",
    "plt.plot(X,Y ,\"x\")"
   ]
  },
  {
   "cell_type": "code",
   "execution_count": 3,
   "metadata": {},
   "outputs": [],
   "source": [
    "from gpflow.covariances.dispatch import Kuf, Kuu\n",
    "from gpflow.kernels import SquaredExponential\n",
    "from gpflow.utilities.ops import square_distance\n",
    "\n",
    "class GaussianNoiseInvariant(SquaredExponential):\n",
    "    def __init__(self, base_variance=1.0, base_lengthscales=1.0, orbit_variance=1.0):\n",
    "        self.base_variance = gpflow.Parameter(base_variance, transform=gpflow.utilities.bijectors.positive())\n",
    "        self.base_lengthscales = gpflow.Parameter(base_lengthscales, transform=gpflow.utilities.bijectors.positive())\n",
    "        self.orbit_variance = orbit_variance\n",
    "        super().__init__()\n",
    "\n",
    "    @property\n",
    "    def lengthscales(self):\n",
    "        return (self.base_lengthscales ** 2.0 + 2 * self.orbit_variance) ** 0.5\n",
    "\n",
    "    @lengthscales.setter\n",
    "    def lengthscales(self, x):\n",
    "        pass\n",
    "\n",
    "    @property\n",
    "    def variance(self):\n",
    "        return (self.base_lengthscales ** 2.0 / self.lengthscales ** 2.0) ** 0.5 * self.base_variance\n",
    "\n",
    "    @variance.setter\n",
    "    def variance(self, x):\n",
    "        pass\n",
    "\n",
    "\n",
    "class GaussianNoiseInvariantInducing(gpflow.inducing_variables.InducingPoints):\n",
    "    pass\n",
    "\n",
    "\n",
    "@Kuu.register(GaussianNoiseInvariantInducing, GaussianNoiseInvariant)\n",
    "def Kuu_temp(inducing_variable, kernel, *, jitter=0.0):\n",
    "    X_scaled = inducing_variable.Z / kernel.base_lengthscales\n",
    "    r2 = square_distance(X_scaled, None)\n",
    "    return kernel.base_variance * tf.exp(-0.5 * r2) + jitter * tf.eye(len(inducing_variable), dtype=r2.dtype)\n",
    "\n",
    "\n",
    "@Kuf.register(GaussianNoiseInvariantInducing, GaussianNoiseInvariant, object)\n",
    "def Kuf_temp(inducing_variable, kernel, Xnew):\n",
    "    ls = (kernel.base_lengthscales ** 2.0 + kernel.orbit_variance) ** 0.5\n",
    "    X_scaled = Xnew / ls\n",
    "    Z_scaled = inducing_variable.Z / ls\n",
    "    r2 = square_distance(Z_scaled, X_scaled)\n",
    "    return kernel.base_variance * (kernel.base_lengthscales ** 2.0 / ls ** 2.0) ** 0.5 * tf.exp(-0.5 * r2)"
   ]
  },
  {
   "cell_type": "code",
   "execution_count": 4,
   "metadata": {},
   "outputs": [],
   "source": [
    "orbit_variance = 0.1\n",
    "\n",
    "det_k = GaussianNoiseInvariant(orbit_variance=orbit_variance)"
   ]
  },
  {
   "cell_type": "code",
   "execution_count": 5,
   "metadata": {},
   "outputs": [
    {
     "name": "stdout",
     "output_type": "stream",
     "text": [
      "Step: 0, Mini batch elbo: -525.7690514986036\n",
      "Step: 50, Mini batch elbo: -351.7720247857554\n",
      "Step: 100, Mini batch elbo: -308.0101178260792\n",
      "Step: 150, Mini batch elbo: -176.65445089486283\n",
      "Step: 200, Mini batch elbo: -65.22817383084359\n",
      "Step: 250, Mini batch elbo: 23.51760523505314\n",
      "Step: 300, Mini batch elbo: 95.77652119129912\n",
      "Step: 350, Mini batch elbo: 148.0494362075405\n",
      "Step: 400, Mini batch elbo: 178.75945802098147\n",
      "Step: 450, Mini batch elbo: 193.0930009375991\n",
      "Step: 500, Mini batch elbo: 197.33625958164882\n",
      "Step: 550, Mini batch elbo: 199.316708615824\n",
      "Step: 600, Mini batch elbo: 199.50365581389218\n",
      "Step: 650, Mini batch elbo: 199.8384286703306\n",
      "Step: 700, Mini batch elbo: 199.6981903909562\n",
      "Step: 750, Mini batch elbo: 199.89423175272455\n",
      "Step: 800, Mini batch elbo: 199.68620107516165\n",
      "Step: 850, Mini batch elbo: 199.22732646142697\n",
      "Step: 900, Mini batch elbo: 199.20656601944822\n",
      "Step: 950, Mini batch elbo: 199.878608366525\n",
      "Step: 1000, Mini batch elbo: 200.19199655041402\n",
      "Step: 1050, Mini batch elbo: 200.26623171107\n",
      "Step: 1100, Mini batch elbo: 200.28803654643957\n",
      "Step: 1150, Mini batch elbo: 199.08303842692828\n",
      "Step: 1200, Mini batch elbo: 200.22699568239773\n",
      "Step: 1250, Mini batch elbo: 200.58957329345057\n",
      "Step: 1300, Mini batch elbo: 200.22300251377288\n",
      "Step: 1350, Mini batch elbo: 200.38834593213994\n",
      "Step: 1400, Mini batch elbo: 200.63896227791184\n",
      "Step: 1450, Mini batch elbo: 200.31214847266142\n",
      "Step: 1500, Mini batch elbo: 199.27358956861593\n",
      "Step: 1550, Mini batch elbo: 200.6289213276592\n",
      "Step: 1600, Mini batch elbo: 200.79780215163822\n",
      "Step: 1650, Mini batch elbo: 200.42436306061984\n",
      "Step: 1700, Mini batch elbo: 200.80941750872205\n",
      "Step: 1750, Mini batch elbo: 200.819865039788\n",
      "Step: 1800, Mini batch elbo: 200.83237103587254\n",
      "Step: 1850, Mini batch elbo: 200.46641740759085\n",
      "Step: 1900, Mini batch elbo: 200.81167147952834\n",
      "Step: 1950, Mini batch elbo: 200.77875682272722\n"
     ]
    }
   ],
   "source": [
    "SVGPmodel = SVGP(det_k, likelihood = gpflow.likelihoods.Gaussian(), inducing_variable=GaussianNoiseInvariantInducing(Z.copy()))\n",
    "\n",
    "train_iter = iter(train_dataset.repeat())\n",
    "training_loss = SVGPmodel.training_loss_closure(train_iter, compile=True)\n",
    "optimizer = tf.keras.optimizers.Adam(0.01)\n",
    "@tf.function\n",
    "def optimization_step():\n",
    "    optimizer.minimize(training_loss, SVGPmodel.trainable_variables)\n",
    "elbo_hist = []\n",
    "for step in range(2000):\n",
    "    optimization_step()\n",
    "    if step % 50 == 0:\n",
    "        minibatch_elbo = -training_loss().numpy()\n",
    "        print('Step: %s, Mini batch elbo: %s' % (step, minibatch_elbo))\n",
    "        elbo_hist.append(minibatch_elbo)\n",
    "\n",
    "SVGPelbo = SVGPmodel.elbo((X,Y))"
   ]
  },
  {
   "cell_type": "code",
   "execution_count": 6,
   "metadata": {},
   "outputs": [],
   "source": [
    "orbit_samples = [20, 40, 60, 80, 100, 200, 300, 400, 500, 600, 700, 800, 900, 1000]\n",
    "g_samples = 10\n",
    "elbo_means = []\n",
    "elbo_sds = []\n",
    "\n",
    "for os in orbit_samples:\n",
    "    stoch_k = invgp.kernels.StochasticInvariant(\n",
    "        basekern=gpflow.kernels.SquaredExponential(variance = det_k.base_variance, lengthscales = det_k.base_lengthscales),\n",
    "        orbit=orbits.GaussianNoiseOrbit(variance=orbit_variance,\n",
    "                                  minibatch_size = os))\n",
    "\n",
    "    sample_model = SampleSVGP(stoch_k,\n",
    "                              inducing_variable = StochasticConvolvedInducingPoints(SVGPmodel.inducing_variable.Z), \n",
    "                              num_data = len(X),\n",
    "                              likelihood = gpflow.likelihoods.Gaussian(variance = SVGPmodel.likelihood.variance),\n",
    "                              q_mu = SVGPmodel.q_mu.numpy(),\n",
    "                              q_sqrt = SVGPmodel.q_sqrt.numpy(),\n",
    "                              matheron_sampler = True, num_samples = g_samples)\n",
    "    container = []\n",
    "    for it in range(20):\n",
    "        elbo = sample_model.elbo((X,Y))\n",
    "        container.append(elbo.numpy())\n",
    "    elbo_means.append(np.mean(container))\n",
    "    elbo_sds.append(np.std(container))"
   ]
  },
  {
   "cell_type": "code",
   "execution_count": 7,
   "metadata": {},
   "outputs": [
    {
     "data": {
      "text/plain": [
       "[-356.3910122976372,\n",
       " -73.75056563554399,\n",
       " 15.425147720116609,\n",
       " 59.06531217624886,\n",
       " 92.05244558427232,\n",
       " 144.89398964275858,\n",
       " 165.44891959692848,\n",
       " 171.19676086308726,\n",
       " 177.6007999244652,\n",
       " 179.10305932548994,\n",
       " 183.20552369290417,\n",
       " 191.54484564702494,\n",
       " 187.45423157336523,\n",
       " 189.86482419771124]"
      ]
     },
     "execution_count": 7,
     "metadata": {},
     "output_type": "execute_result"
    }
   ],
   "source": [
    "elbo_means"
   ]
  },
  {
   "cell_type": "code",
   "execution_count": 8,
   "metadata": {},
   "outputs": [
    {
     "data": {
      "text/plain": [
       "<ErrorbarContainer object of 3 artists>"
      ]
     },
     "execution_count": 8,
     "metadata": {},
     "output_type": "execute_result"
    },
    {
     "data": {
      "image/png": "[encoded data removed]",
      "text/plain": [
       "<Figure size 432x288 with 1 Axes>"
      ]
     },
     "metadata": {
      "needs_background": "light"
     },
     "output_type": "display_data"
    }
   ],
   "source": [
    "fig, ax = plt.subplots()\n",
    "plt.plot(orbit_samples, elbo_means, \"-\")\n",
    "plt.plot(orbit_samples, SVGPelbo.numpy() * np.ones(len(orbit_samples)))\n",
    "ax.errorbar(orbit_samples, elbo_means,\n",
    "            yerr=elbo_sds,\n",
    "            fmt='-o')"
   ]
  },
  {
   "cell_type": "markdown",
   "metadata": {},
   "source": [
    "## Non-Gaussian likelihood\n"
   ]
  },
  {
   "cell_type": "code",
   "execution_count": 9,
   "metadata": {},
   "outputs": [
    {
     "data": {
      "text/plain": [
       "[<matplotlib.lines.Line2D at 0x240c427b470>]"
      ]
     },
     "execution_count": 9,
     "metadata": {},
     "output_type": "execute_result"
    },
    {
     "data": {
      "image/png": "[encoded data removed]",
      "text/plain": [
       "<Figure size 432x288 with 1 Axes>"
      ]
     },
     "metadata": {
      "needs_background": "light"
     },
     "output_type": "display_data"
    }
   ],
   "source": [
    "pX = np.linspace(-10.0, 10.0, 300)[:, None]\n",
    "#X = np.random.uniform(-5, 5, 300)[:, None]\n",
    "#Y = np.sin(3 * X) + 0.1  +  np.cos(0.5 * X) + np.random.randn(*X.shape) * 0.1\n",
    "Y = (Y > 0).astype(int)\n",
    "Z = np.linspace(-5, 5, 50)[:, None]\n",
    "\n",
    "train_dataset = tf.data.Dataset.from_tensor_slices((X, Y))\n",
    "train_dataset = train_dataset.shuffle(1024).batch(len(X))\n",
    "\n",
    "plt.plot(X,Y ,\"x\")"
   ]
  },
  {
   "cell_type": "code",
   "execution_count": 10,
   "metadata": {},
   "outputs": [],
   "source": [
    "orbit_variance = 0.1\n",
    "\n",
    "det_k = GaussianNoiseInvariant(orbit_variance=orbit_variance)"
   ]
  },
  {
   "cell_type": "code",
   "execution_count": 11,
   "metadata": {},
   "outputs": [
    {
     "name": "stdout",
     "output_type": "stream",
     "text": [
      "Step: 0, Mini batch elbo: -258.1142993673033\n",
      "Step: 50, Mini batch elbo: -161.2716395615605\n",
      "Step: 100, Mini batch elbo: -127.51862350973516\n",
      "Step: 150, Mini batch elbo: -108.39739146944605\n",
      "Step: 200, Mini batch elbo: -103.35224980357657\n",
      "Step: 250, Mini batch elbo: -100.18934024999265\n",
      "Step: 300, Mini batch elbo: -98.87335682870092\n",
      "Step: 350, Mini batch elbo: -96.833859911337\n",
      "Step: 400, Mini batch elbo: -95.36759037926062\n",
      "Step: 450, Mini batch elbo: -93.26707847840264\n",
      "Step: 500, Mini batch elbo: -92.35242696702522\n",
      "Step: 550, Mini batch elbo: -91.55682187213567\n",
      "Step: 600, Mini batch elbo: -90.67365390888229\n",
      "Step: 650, Mini batch elbo: -90.58307212418865\n",
      "Step: 700, Mini batch elbo: -89.30868381730633\n",
      "Step: 750, Mini batch elbo: -89.33353009591735\n",
      "Step: 800, Mini batch elbo: -89.44149358661647\n",
      "Step: 850, Mini batch elbo: -88.25722232835523\n",
      "Step: 900, Mini batch elbo: -88.40094412914667\n",
      "Step: 950, Mini batch elbo: -87.6144504877947\n",
      "Step: 1000, Mini batch elbo: -87.46107166247401\n",
      "Step: 1050, Mini batch elbo: -86.79379896885732\n",
      "Step: 1100, Mini batch elbo: -86.28646851463458\n",
      "Step: 1150, Mini batch elbo: -86.25204908893556\n",
      "Step: 1200, Mini batch elbo: -85.17897580572514\n",
      "Step: 1250, Mini batch elbo: -85.12771463657543\n",
      "Step: 1300, Mini batch elbo: -85.26183688153571\n",
      "Step: 1350, Mini batch elbo: -84.22084960210002\n",
      "Step: 1400, Mini batch elbo: -84.79708818026171\n",
      "Step: 1450, Mini batch elbo: -84.26478913589375\n",
      "Step: 1500, Mini batch elbo: -84.84261761586573\n",
      "Step: 1550, Mini batch elbo: -83.71065586295313\n",
      "Step: 1600, Mini batch elbo: -83.9037068100854\n",
      "Step: 1650, Mini batch elbo: -83.36977444660477\n",
      "Step: 1700, Mini batch elbo: -83.79716984370188\n",
      "Step: 1750, Mini batch elbo: -83.25669587732253\n",
      "Step: 1800, Mini batch elbo: -82.29639168372013\n",
      "Step: 1850, Mini batch elbo: -82.45618133327604\n",
      "Step: 1900, Mini batch elbo: -82.6932455885815\n",
      "Step: 1950, Mini batch elbo: -82.56094045626418\n"
     ]
    }
   ],
   "source": [
    "SVGPmodel = SVGP(det_k, likelihood = gpflow.likelihoods.Softmax(num_classes = 2), \n",
    "                 num_data = len(X),\n",
    "                 num_latent_gps = 2,\n",
    "                 inducing_variable=GaussianNoiseInvariantInducing(Z.copy()))\n",
    "\n",
    "train_iter = iter(train_dataset.repeat())\n",
    "training_loss = SVGPmodel.training_loss_closure(train_iter, compile=False) # Compile not working for softmax-likelihood\n",
    "optimizer = tf.keras.optimizers.Adam(0.01)\n",
    "#@tf.function\n",
    "def optimization_step():\n",
    "    optimizer.minimize(training_loss, SVGPmodel.trainable_variables)\n",
    "elbo_hist = []\n",
    "for step in range(2000):\n",
    "    optimization_step()\n",
    "    if step % 50 == 0:\n",
    "        minibatch_elbo = -training_loss().numpy()\n",
    "        print('Step: %s, Mini batch elbo: %s' % (step, minibatch_elbo))\n",
    "        elbo_hist.append(minibatch_elbo)\n",
    "\n",
    "SVGPelbo = SVGPmodel.elbo((X,Y))"
   ]
  },
  {
   "cell_type": "code",
   "execution_count": 12,
   "metadata": {},
   "outputs": [],
   "source": [
    "orbit_samples = [20, 40, 60, 80, 100, 200, 300]\n",
    "g_samples = 10\n",
    "elbo_means = []\n",
    "elbo_sds = []\n",
    "\n",
    "for os in orbit_samples:\n",
    "    stoch_k = invgp.kernels.StochasticInvariant(\n",
    "        basekern=gpflow.kernels.SquaredExponential(variance = det_k.base_variance, lengthscales = det_k.base_lengthscales),\n",
    "        orbit=orbits.GaussianNoiseOrbit(variance=orbit_variance,\n",
    "                                  minibatch_size = os))\n",
    "\n",
    "    sample_model = SampleSVGP(stoch_k,\n",
    "                              inducing_variable = StochasticConvolvedInducingPoints(SVGPmodel.inducing_variable.Z), \n",
    "                              num_data = len(X),\n",
    "                              likelihood = gpflow.likelihoods.Softmax(num_classes = 2),\n",
    "                              num_latent_gps = 2,\n",
    "                              q_mu = SVGPmodel.q_mu.numpy(),\n",
    "                              q_sqrt = SVGPmodel.q_sqrt.numpy(),\n",
    "                              matheron_sampler = True, num_samples = g_samples)\n",
    "    container = []\n",
    "    for it in range(20):\n",
    "        elbo = sample_model.elbo((X,Y))\n",
    "        container.append(elbo.numpy())\n",
    "    elbo_means.append(np.mean(container))\n",
    "    elbo_sds.append(np.std(container))"
   ]
  },
  {
   "cell_type": "code",
   "execution_count": 13,
   "metadata": {},
   "outputs": [
    {
     "data": {
      "text/plain": [
       "[-98.0207762175261,\n",
       " -88.97427528891299,\n",
       " -87.21535867262715,\n",
       " -86.2147002502381,\n",
       " -84.86420994761633,\n",
       " -82.92280198632328,\n",
       " -83.29434229191263]"
      ]
     },
     "execution_count": 13,
     "metadata": {},
     "output_type": "execute_result"
    }
   ],
   "source": [
    "elbo_means"
   ]
  },
  {
   "cell_type": "code",
   "execution_count": 14,
   "metadata": {},
   "outputs": [
    {
     "data": {
      "text/plain": [
       "<ErrorbarContainer object of 3 artists>"
      ]
     },
     "execution_count": 14,
     "metadata": {},
     "output_type": "execute_result"
    },
    {
     "data": {
      "image/png": "[encoded data removed]",
      "text/plain": [
       "<Figure size 432x288 with 1 Axes>"
      ]
     },
     "metadata": {
      "needs_background": "light"
     },
     "output_type": "display_data"
    }
   ],
   "source": [
    "fig, ax = plt.subplots()\n",
    "plt.plot(orbit_samples, elbo_means, \"-\")\n",
    "plt.plot(orbit_samples, SVGPelbo.numpy() * np.ones(len(orbit_samples)))\n",
    "ax.errorbar(orbit_samples, elbo_means,\n",
    "            yerr=elbo_sds,\n",
    "            fmt='-o')"
   ]
  }
 ],
 "metadata": {
  "kernelspec": {
   "display_name": "Python 3",
   "language": "python",
   "name": "python3"
  },
  "language_info": {
   "codemirror_mode": {
    "name": "ipython",
    "version": 3
   },
   "file_extension": ".py",
   "mimetype": "text/x-python",
   "name": "python",
   "nbconvert_exporter": "python",
   "pygments_lexer": "ipython3",
   "version": "3.6.5"
  }
 },
 "nbformat": 4,
 "nbformat_minor": 4
}
