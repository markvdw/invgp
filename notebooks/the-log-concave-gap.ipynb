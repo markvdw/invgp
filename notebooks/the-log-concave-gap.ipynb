{
 "cells": [
  {
   "cell_type": "code",
   "execution_count": 1,
   "metadata": {},
   "outputs": [],
   "source": [
    "import numpy as np\n",
    "import numpy.random as rnd\n",
    "import matplotlib.pyplot as plt\n",
    "\n",
    "import tensorflow as tf\n",
    "\n",
    "import gpflow\n",
    "from gpflow.models import SVGP, SGPR\n",
    "from gpflow.utilities import read_values, multiple_assign, set_trainable\n",
    "from gpflow.inducing_variables import InducingPoints\n",
    "\n",
    "import invgp\n",
    "from invgp.models.SampleSVGP import SampleSVGP\n",
    "import invgp.kernels.orbits as orbits\n",
    "from invgp.inducing_variables.invariant_convolution_domain import StochasticConvolvedInducingPoints\n",
    "from invgp.likelihoods.multiclass import SampleSoftmax"
   ]
  },
  {
   "cell_type": "code",
   "execution_count": 2,
   "metadata": {},
   "outputs": [
    {
     "data": {
      "text/plain": [
       "[<matplotlib.lines.Line2D at 0x19261a73b38>]"
      ]
     },
     "execution_count": 2,
     "metadata": {},
     "output_type": "execute_result"
    },
    {
     "data": {
      "image/png": "[encoded data removed]",
      "text/plain": [
       "<Figure size 432x288 with 1 Axes>"
      ]
     },
     "metadata": {
      "needs_background": "light"
     },
     "output_type": "display_data"
    }
   ],
   "source": [
    "pX = np.linspace(-10.0, 10.0, 300)[:, None]\n",
    "X = np.random.uniform(-5, 5, 300)[:, None]\n",
    "Y = np.sin(3 * X) + 0.1  +  np.cos(0.5 * X) + np.random.randn(*X.shape) * 0.1\n",
    "Z = np.linspace(-5, 5, 50)[:, None]\n",
    "\n",
    "train_dataset = tf.data.Dataset.from_tensor_slices((X, Y))\n",
    "train_dataset = train_dataset.shuffle(1024).batch(len(X))\n",
    "\n",
    "plt.plot(X,Y ,\"x\")"
   ]
  },
  {
   "cell_type": "code",
   "execution_count": 3,
   "metadata": {},
   "outputs": [],
   "source": [
    "from gpflow.covariances.dispatch import Kuf, Kuu\n",
    "from gpflow.kernels import SquaredExponential\n",
    "from gpflow.utilities.ops import square_distance\n",
    "\n",
    "class GaussianNoiseInvariant(SquaredExponential):\n",
    "    def __init__(self, base_variance=1.0, base_lengthscales=1.0, orbit_variance=1.0):\n",
    "        self.base_variance = gpflow.Parameter(base_variance, transform=gpflow.utilities.bijectors.positive())\n",
    "        self.base_lengthscales = gpflow.Parameter(base_lengthscales, transform=gpflow.utilities.bijectors.positive())\n",
    "        self.orbit_variance = orbit_variance\n",
    "        super().__init__()\n",
    "\n",
    "    @property\n",
    "    def lengthscales(self):\n",
    "        return (self.base_lengthscales ** 2.0 + 2 * self.orbit_variance) ** 0.5\n",
    "\n",
    "    @lengthscales.setter\n",
    "    def lengthscales(self, x):\n",
    "        pass\n",
    "\n",
    "    @property\n",
    "    def variance(self):\n",
    "        return (self.base_lengthscales ** 2.0 / self.lengthscales ** 2.0) ** 0.5 * self.base_variance\n",
    "\n",
    "    @variance.setter\n",
    "    def variance(self, x):\n",
    "        pass\n",
    "\n",
    "\n",
    "class GaussianNoiseInvariantInducing(gpflow.inducing_variables.InducingPoints):\n",
    "    pass\n",
    "\n",
    "\n",
    "@Kuu.register(GaussianNoiseInvariantInducing, GaussianNoiseInvariant)\n",
    "def Kuu_temp(inducing_variable, kernel, *, jitter=0.0):\n",
    "    X_scaled = inducing_variable.Z / kernel.base_lengthscales\n",
    "    r2 = square_distance(X_scaled, None)\n",
    "    return kernel.base_variance * tf.exp(-0.5 * r2) + jitter * tf.eye(len(inducing_variable), dtype=r2.dtype)\n",
    "\n",
    "\n",
    "@Kuf.register(GaussianNoiseInvariantInducing, GaussianNoiseInvariant, object)\n",
    "def Kuf_temp(inducing_variable, kernel, Xnew):\n",
    "    ls = (kernel.base_lengthscales ** 2.0 + kernel.orbit_variance) ** 0.5\n",
    "    X_scaled = Xnew / ls\n",
    "    Z_scaled = inducing_variable.Z / ls\n",
    "    r2 = square_distance(Z_scaled, X_scaled)\n",
    "    return kernel.base_variance * (kernel.base_lengthscales ** 2.0 / ls ** 2.0) ** 0.5 * tf.exp(-0.5 * r2)"
   ]
  },
  {
   "cell_type": "code",
   "execution_count": 4,
   "metadata": {},
   "outputs": [],
   "source": [
    "orbit_variance = 0.1\n",
    "\n",
    "det_k = GaussianNoiseInvariant(orbit_variance=orbit_variance)"
   ]
  },
  {
   "cell_type": "code",
   "execution_count": 5,
   "metadata": {},
   "outputs": [
    {
     "name": "stdout",
     "output_type": "stream",
     "text": [
      "Step: 0, Mini batch elbo: -546.7457032743508\n",
      "Step: 50, Mini batch elbo: -366.1667261876989\n",
      "Step: 100, Mini batch elbo: -319.90321155420037\n",
      "Step: 150, Mini batch elbo: -186.3576639753307\n",
      "Step: 200, Mini batch elbo: -75.16483983345785\n",
      "Step: 250, Mini batch elbo: 14.869609010265073\n",
      "Step: 300, Mini batch elbo: 86.78500766312794\n",
      "Step: 350, Mini batch elbo: 138.0086104679146\n",
      "Step: 400, Mini batch elbo: 167.31657303044943\n",
      "Step: 450, Mini batch elbo: 180.4040530783484\n",
      "Step: 500, Mini batch elbo: 183.53103623770866\n",
      "Step: 550, Mini batch elbo: 184.09517385091567\n",
      "Step: 600, Mini batch elbo: 184.9194399986283\n",
      "Step: 650, Mini batch elbo: 185.0728561156284\n",
      "Step: 700, Mini batch elbo: 185.69824574414295\n",
      "Step: 750, Mini batch elbo: 185.4461458152093\n",
      "Step: 800, Mini batch elbo: 186.11369546279911\n",
      "Step: 850, Mini batch elbo: 185.70059846742046\n",
      "Step: 900, Mini batch elbo: 185.7494566029742\n",
      "Step: 950, Mini batch elbo: 186.28441191629383\n",
      "Step: 1000, Mini batch elbo: 185.68551540198723\n",
      "Step: 1050, Mini batch elbo: 184.39240906629303\n",
      "Step: 1100, Mini batch elbo: 186.085962674139\n",
      "Step: 1150, Mini batch elbo: 186.03933639051482\n",
      "Step: 1200, Mini batch elbo: 186.5214947075135\n",
      "Step: 1250, Mini batch elbo: 186.29580682462125\n",
      "Step: 1300, Mini batch elbo: 186.70580859589313\n",
      "Step: 1350, Mini batch elbo: 186.56490890479557\n",
      "Step: 1400, Mini batch elbo: 186.38470728237724\n",
      "Step: 1450, Mini batch elbo: 186.03475721165887\n",
      "Step: 1500, Mini batch elbo: 185.10955249003604\n",
      "Step: 1550, Mini batch elbo: 186.75210805610783\n",
      "Step: 1600, Mini batch elbo: 186.74079897097042\n",
      "Step: 1650, Mini batch elbo: 186.28525935349984\n",
      "Step: 1700, Mini batch elbo: 185.98745697573722\n",
      "Step: 1750, Mini batch elbo: 186.3747638050108\n",
      "Step: 1800, Mini batch elbo: 186.86457492808992\n",
      "Step: 1850, Mini batch elbo: 186.43306838606546\n",
      "Step: 1900, Mini batch elbo: 186.50726517504796\n",
      "Step: 1950, Mini batch elbo: 186.82657886340124\n"
     ]
    }
   ],
   "source": [
    "SVGPmodel = SVGP(det_k, likelihood = gpflow.likelihoods.Gaussian(), inducing_variable=GaussianNoiseInvariantInducing(Z.copy()))\n",
    "\n",
    "train_iter = iter(train_dataset.repeat())\n",
    "training_loss = SVGPmodel.training_loss_closure(train_iter, compile=True)\n",
    "optimizer = tf.keras.optimizers.Adam(0.01)\n",
    "@tf.function\n",
    "def optimization_step():\n",
    "    optimizer.minimize(training_loss, SVGPmodel.trainable_variables)\n",
    "elbo_hist = []\n",
    "for step in range(2000):\n",
    "    optimization_step()\n",
    "    if step % 50 == 0:\n",
    "        minibatch_elbo = -training_loss().numpy()\n",
    "        print('Step: %s, Mini batch elbo: %s' % (step, minibatch_elbo))\n",
    "        elbo_hist.append(minibatch_elbo)\n",
    "\n",
    "SVGPelbo = SVGPmodel.elbo((X,Y))"
   ]
  },
  {
   "cell_type": "code",
   "execution_count": 6,
   "metadata": {},
   "outputs": [],
   "source": [
    "orbit_samples = [20, 40, 60, 80, 100, 200, 300, 400, 500, 600, 700, 800, 900, 1000]\n",
    "g_samples = 10\n",
    "elbo_means = []\n",
    "elbo_sds = []\n",
    "\n",
    "for os in orbit_samples:\n",
    "    stoch_k = invgp.kernels.StochasticInvariant(\n",
    "        basekern=gpflow.kernels.SquaredExponential(variance = det_k.base_variance, lengthscales = det_k.base_lengthscales),\n",
    "        orbit=orbits.GaussianNoiseOrbit(variance=orbit_variance,\n",
    "                                  minibatch_size = os))\n",
    "\n",
    "    sample_model = SampleSVGP(stoch_k,\n",
    "                              inducing_variable = StochasticConvolvedInducingPoints(SVGPmodel.inducing_variable.Z), \n",
    "                              num_data = len(X),\n",
    "                              likelihood = gpflow.likelihoods.Gaussian(variance = SVGPmodel.likelihood.variance),\n",
    "                              q_mu = SVGPmodel.q_mu.numpy(),\n",
    "                              q_sqrt = SVGPmodel.q_sqrt.numpy(),\n",
    "                              matheron_sampler = True, num_samples = g_samples)\n",
    "    container = []\n",
    "    for it in range(20):\n",
    "        elbo = sample_model.elbo((X,Y))\n",
    "        container.append(elbo.numpy())\n",
    "    elbo_means.append(np.mean(container))\n",
    "    elbo_sds.append(np.std(container))"
   ]
  },
  {
   "cell_type": "code",
   "execution_count": 7,
   "metadata": {},
   "outputs": [
    {
     "data": {
      "text/plain": [
       "[-336.5831323259518,\n",
       " -59.606285609291,\n",
       " 18.841893397095987,\n",
       " 55.520017799551944,\n",
       " 82.42764327858445,\n",
       " 136.54043004437955,\n",
       " 154.19742424492625,\n",
       " 162.31453714686714,\n",
       " 168.0085375056266,\n",
       " 169.13351565615815,\n",
       " 171.34359700018734,\n",
       " 174.0203921200678,\n",
       " 175.56150690698263,\n",
       " 176.49169049223062]"
      ]
     },
     "execution_count": 7,
     "metadata": {},
     "output_type": "execute_result"
    }
   ],
   "source": [
    "elbo_means"
   ]
  },
  {
   "cell_type": "code",
   "execution_count": 8,
   "metadata": {},
   "outputs": [
    {
     "data": {
      "text/plain": [
       "<ErrorbarContainer object of 3 artists>"
      ]
     },
     "execution_count": 8,
     "metadata": {},
     "output_type": "execute_result"
    },
    {
     "data": {
      "image/png": "[encoded data removed]",
      "text/plain": [
       "<Figure size 432x288 with 1 Axes>"
      ]
     },
     "metadata": {
      "needs_background": "light"
     },
     "output_type": "display_data"
    }
   ],
   "source": [
    "fig, ax = plt.subplots()\n",
    "plt.plot(orbit_samples, elbo_means, \"-\")\n",
    "plt.plot(orbit_samples, SVGPelbo.numpy() * np.ones(len(orbit_samples)))\n",
    "ax.errorbar(orbit_samples, elbo_means,\n",
    "            yerr=elbo_sds,\n",
    "            fmt='-o')"
   ]
  },
  {
   "cell_type": "markdown",
   "metadata": {},
   "source": [
    "I should somehow visualise the variation of the ELBO in this plot. Should also investigate the impact of g_samples."
   ]
  },
  {
   "cell_type": "markdown",
   "metadata": {},
   "source": [
    "## Non-Gaussian likelihood\n",
    "\n",
    "I tried for the softmax, but there is some bug that I could not immediately solve. So I ran for the Bernoulli."
   ]
  },
  {
   "cell_type": "code",
   "execution_count": 9,
   "metadata": {},
   "outputs": [
    {
     "data": {
      "text/plain": [
       "[<matplotlib.lines.Line2D at 0x192000496d8>]"
      ]
     },
     "execution_count": 9,
     "metadata": {},
     "output_type": "execute_result"
    },
    {
     "data": {
      "image/png": "[encoded data removed]",
      "text/plain": [
       "<Figure size 432x288 with 1 Axes>"
      ]
     },
     "metadata": {
      "needs_background": "light"
     },
     "output_type": "display_data"
    }
   ],
   "source": [
    "pX = np.linspace(-10.0, 10.0, 300)[:, None]\n",
    "X = np.random.uniform(-5, 5, 300)[:, None]\n",
    "Y = np.sin(3 * X) + 0.1  +  np.cos(0.5 * X) + np.random.randn(*X.shape) * 0.1\n",
    "Y = (Y > 0).astype(int)\n",
    "#Y = np.sign(Y).astype(int)\n",
    "Z = np.linspace(-5, 5, 50)[:, None]\n",
    "\n",
    "train_dataset = tf.data.Dataset.from_tensor_slices((X, Y))\n",
    "train_dataset = train_dataset.shuffle(1024).batch(len(X))\n",
    "\n",
    "plt.plot(X,Y ,\"x\")"
   ]
  },
  {
   "cell_type": "code",
   "execution_count": 10,
   "metadata": {},
   "outputs": [],
   "source": [
    "orbit_variance = 0.1\n",
    "\n",
    "det_k = GaussianNoiseInvariant(orbit_variance=orbit_variance)"
   ]
  },
  {
   "cell_type": "code",
   "execution_count": 11,
   "metadata": {},
   "outputs": [
    {
     "name": "stdout",
     "output_type": "stream",
     "text": [
      "Step: 0, Mini batch elbo: -256.22839872722795\n",
      "Step: 50, Mini batch elbo: -162.19570283932345\n",
      "Step: 100, Mini batch elbo: -125.92755987298767\n",
      "Step: 150, Mini batch elbo: -105.98206159205958\n",
      "Step: 200, Mini batch elbo: -100.10155744072594\n",
      "Step: 250, Mini batch elbo: -97.37971743312542\n",
      "Step: 300, Mini batch elbo: -98.05524850439397\n",
      "Step: 350, Mini batch elbo: -94.0387759098624\n",
      "Step: 400, Mini batch elbo: -92.37578452778132\n",
      "Step: 450, Mini batch elbo: -90.98411058715944\n",
      "Step: 500, Mini batch elbo: -90.17768983846099\n",
      "Step: 550, Mini batch elbo: -89.4019613523005\n",
      "Step: 600, Mini batch elbo: -88.20790385732573\n",
      "Step: 650, Mini batch elbo: -88.06294642377156\n",
      "Step: 700, Mini batch elbo: -87.04968394256332\n",
      "Step: 750, Mini batch elbo: -87.0829121509795\n",
      "Step: 800, Mini batch elbo: -86.43056120950061\n",
      "Step: 850, Mini batch elbo: -85.42493771075397\n",
      "Step: 900, Mini batch elbo: -84.69478178753539\n",
      "Step: 950, Mini batch elbo: -84.99176728314428\n",
      "Step: 1000, Mini batch elbo: -84.55845655153654\n",
      "Step: 1050, Mini batch elbo: -84.23209268956225\n",
      "Step: 1100, Mini batch elbo: -83.41298701815228\n",
      "Step: 1150, Mini batch elbo: -83.1212748780436\n",
      "Step: 1200, Mini batch elbo: -82.6844781478027\n",
      "Step: 1250, Mini batch elbo: -82.69467540509005\n",
      "Step: 1300, Mini batch elbo: -82.3708535471224\n",
      "Step: 1350, Mini batch elbo: -81.96149366891177\n",
      "Step: 1400, Mini batch elbo: -82.06330733731943\n",
      "Step: 1450, Mini batch elbo: -81.4794442745216\n",
      "Step: 1500, Mini batch elbo: -81.45065085958285\n",
      "Step: 1550, Mini batch elbo: -81.61613077282757\n",
      "Step: 1600, Mini batch elbo: -81.89380958596017\n",
      "Step: 1650, Mini batch elbo: -81.16322908101223\n",
      "Step: 1700, Mini batch elbo: -80.47156321397452\n",
      "Step: 1750, Mini batch elbo: -80.75124021873822\n",
      "Step: 1800, Mini batch elbo: -80.32305143554902\n",
      "Step: 1850, Mini batch elbo: -80.1535640024195\n",
      "Step: 1900, Mini batch elbo: -80.55188423793146\n",
      "Step: 1950, Mini batch elbo: -79.65158379476051\n"
     ]
    }
   ],
   "source": [
    "SVGPmodel = SVGP(det_k, likelihood = gpflow.likelihoods.Softmax(num_classes = 2), \n",
    "                 num_data = len(X),\n",
    "                 num_latent_gps = 2,\n",
    "                 inducing_variable=GaussianNoiseInvariantInducing(Z.copy()))\n",
    "\n",
    "train_iter = iter(train_dataset.repeat())\n",
    "training_loss = SVGPmodel.training_loss_closure(train_iter, compile=False) # Compile not working for softmax-likelihood\n",
    "optimizer = tf.keras.optimizers.Adam(0.01)\n",
    "#@tf.function\n",
    "def optimization_step():\n",
    "    optimizer.minimize(training_loss, SVGPmodel.trainable_variables)\n",
    "elbo_hist = []\n",
    "for step in range(2000):\n",
    "    optimization_step()\n",
    "    if step % 50 == 0:\n",
    "        minibatch_elbo = -training_loss().numpy()\n",
    "        print('Step: %s, Mini batch elbo: %s' % (step, minibatch_elbo))\n",
    "        elbo_hist.append(minibatch_elbo)\n",
    "\n",
    "SVGPelbo = SVGPmodel.elbo((X,Y))"
   ]
  },
  {
   "cell_type": "code",
   "execution_count": 15,
   "metadata": {},
   "outputs": [],
   "source": [
    "orbit_samples = [20, 40, 60, 80, 100, 200, 300]\n",
    "g_samples = 10\n",
    "elbo_means = []\n",
    "elbo_sds = []\n",
    "\n",
    "for os in orbit_samples:\n",
    "    stoch_k = invgp.kernels.StochasticInvariant(\n",
    "        basekern=gpflow.kernels.SquaredExponential(variance = det_k.base_variance, lengthscales = det_k.base_lengthscales),\n",
    "        orbit=orbits.GaussianNoiseOrbit(variance=orbit_variance,\n",
    "                                  minibatch_size = os))\n",
    "\n",
    "    sample_model = SampleSVGP(stoch_k,\n",
    "                              inducing_variable = StochasticConvolvedInducingPoints(SVGPmodel.inducing_variable.Z), \n",
    "                              num_data = len(X),\n",
    "                              likelihood = SampleSoftmax(num_classes = 2),\n",
    "                              num_latent_gps = 2,\n",
    "                              q_mu = SVGPmodel.q_mu.numpy(),\n",
    "                              q_sqrt = SVGPmodel.q_sqrt.numpy(),\n",
    "                              matheron_sampler = True, num_samples = g_samples)\n",
    "    container = []\n",
    "    for it in range(20):\n",
    "        elbo = sample_model.elbo((X,Y))\n",
    "        container.append(elbo.numpy())\n",
    "    elbo_means.append(np.mean(container))\n",
    "    elbo_sds.append(np.std(container))"
   ]
  },
  {
   "cell_type": "code",
   "execution_count": 16,
   "metadata": {},
   "outputs": [
    {
     "data": {
      "text/plain": [
       "[-92.73404487051155,\n",
       " -86.04624358987492,\n",
       " -83.80568825413522,\n",
       " -83.79611733051784,\n",
       " -81.49055563098668,\n",
       " -80.51451555109398,\n",
       " -80.56555387491989]"
      ]
     },
     "execution_count": 16,
     "metadata": {},
     "output_type": "execute_result"
    }
   ],
   "source": [
    "elbo_means"
   ]
  },
  {
   "cell_type": "code",
   "execution_count": 17,
   "metadata": {},
   "outputs": [
    {
     "data": {
      "text/plain": [
       "<ErrorbarContainer object of 3 artists>"
      ]
     },
     "execution_count": 17,
     "metadata": {},
     "output_type": "execute_result"
    },
    {
     "data": {
      "image/png": "[encoded data removed]",
      "text/plain": [
       "<Figure size 432x288 with 1 Axes>"
      ]
     },
     "metadata": {
      "needs_background": "light"
     },
     "output_type": "display_data"
    }
   ],
   "source": [
    "fig, ax = plt.subplots()\n",
    "plt.plot(orbit_samples, elbo_means, \"-\")\n",
    "plt.plot(orbit_samples, SVGPelbo.numpy() * np.ones(len(orbit_samples)))\n",
    "ax.errorbar(orbit_samples, elbo_means,\n",
    "            yerr=elbo_sds,\n",
    "            fmt='-o')"
   ]
  }
 ],
 "metadata": {
  "kernelspec": {
   "display_name": "Python 3",
   "language": "python",
   "name": "python3"
  },
  "language_info": {
   "codemirror_mode": {
    "name": "ipython",
    "version": 3
   },
   "file_extension": ".py",
   "mimetype": "text/x-python",
   "name": "python",
   "nbconvert_exporter": "python",
   "pygments_lexer": "ipython3",
   "version": "3.6.5"
  }
 },
 "nbformat": 4,
 "nbformat_minor": 4
}
