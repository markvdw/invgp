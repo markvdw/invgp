{
 "cells": [
  {
   "cell_type": "code",
   "execution_count": 1,
   "metadata": {},
   "outputs": [],
   "source": [
    "import numpy as np"
   ]
  },
  {
   "cell_type": "code",
   "execution_count": 2,
   "metadata": {},
   "outputs": [],
   "source": [
    "# generate datapoints - hard dataset\n",
    "X = np.random.uniform(-3, 3, 400)[:, None]\n",
    "X = np.reshape(X, [200, 2])  # 2-dimensional input\n",
    "Y = np.ones((200, 1))\n",
    "Y[np.where(np.sqrt(X[:, 0] ** 2 + X[:, 1] ** 2) > 2)] = 0"
   ]
  },
  {
   "cell_type": "code",
   "execution_count": null,
   "metadata": {},
   "outputs": [],
   "source": [
    "# plot everything\n",
    "fig, ax = plt.subplots(1, 1, figsize=(12, 15))\n",
    "x1list = np.linspace(-3.0, 3.0, 100)\n",
    "x2list = np.linspace(-3.0, 3.0, 100)\n",
    "X1, X2 = np.meshgrid(x1list, x2list)\n",
    "ax.set_title('True function')\n",
    "ax.set_aspect('equal', 'box')\n",
    "# plot the true data generating process\n",
    "#true_Y = np.ones_like(X1)\n",
    "#true_np.sqrt(X1 ** 2 + X2 ** 2) > 2)] = 0\n",
    "true_Y = np.sqrt(X1 ** 2 + X2 ** 2)\n",
    "cp = ax.contourf(X1, X2, true_Y)\n",
    "plt.colorbar(cp)\n",
    "plt.show()"
   ]
  }
 ],
 "metadata": {
  "kernelspec": {
   "display_name": "tf_env",
   "language": "python",
   "name": "tf_env"
  },
  "language_info": {
   "codemirror_mode": {
    "name": "ipython",
    "version": 3
   },
   "file_extension": ".py",
   "mimetype": "text/x-python",
   "name": "python",
   "nbconvert_exporter": "python",
   "pygments_lexer": "ipython3",
   "version": "3.6.10"
  }
 },
 "nbformat": 4,
 "nbformat_minor": 4
}
